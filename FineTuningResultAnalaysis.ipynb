{
  "nbformat": 4,
  "nbformat_minor": 0,
  "metadata": {
    "colab": {
      "provenance": [],
      "include_colab_link": true
    },
    "kernelspec": {
      "name": "python3",
      "display_name": "Python 3"
    },
    "language_info": {
      "name": "python"
    }
  },
  "cells": [
    {
      "cell_type": "markdown",
      "metadata": {
        "id": "view-in-github",
        "colab_type": "text"
      },
      "source": [
        "<a href=\"https://colab.research.google.com/github/FM-Man/text-summarizer-backend/blob/main/FineTuningResultAnalaysis.ipynb\" target=\"_parent\"><img src=\"https://colab.research.google.com/assets/colab-badge.svg\" alt=\"Open In Colab\"/></a>"
      ]
    },
    {
      "cell_type": "code",
      "execution_count": null,
      "metadata": {
        "id": "7uYqMi3KhcVA"
      },
      "outputs": [],
      "source": []
    },
    {
      "cell_type": "code",
      "source": [
        "from google.colab import drive\n",
        "drive.mount('/content/drive')"
      ],
      "metadata": {
        "colab": {
          "base_uri": "https://localhost:8080/"
        },
        "id": "6iEniAf3jBUF",
        "outputId": "f652bd11-18a7-4f18-d1fc-716d861629f4"
      },
      "execution_count": 1,
      "outputs": [
        {
          "output_type": "stream",
          "name": "stdout",
          "text": [
            "Mounted at /content/drive\n"
          ]
        }
      ]
    },
    {
      "cell_type": "code",
      "source": [
        "from typing_extensions import final\n",
        "import json\n",
        "\n",
        "def get_score_array(score):\n",
        "  return [\n",
        "          score['rouge-1']['r']+score['rouge-1']['p']+score['rouge-1']['f'],\n",
        "          score['rouge-2']['r']+score['rouge-2']['p']+score['rouge-2']['f'],\n",
        "          score['rouge-l']['r']+score['rouge-l']['p']+score['rouge-l']['f']\n",
        "        ]\n",
        "\n",
        "\n",
        "final_results = {}\n",
        "final_results['r'] = {}\n",
        "final_results['u'] = {}\n",
        "\n",
        "dict_0_01 = json.loads( open('/content/drive/MyDrive/research papers/results/results/0.01_ranked_output.json','r').read() )\n",
        "# print(dict_0_01['doc_1006'])\n",
        "# print(dict_0_01.keys())\n",
        "# print(dict_0_01.values())\n",
        "\n",
        "dic_keys = list(dict_0_01.keys())\n",
        "dic_vals = list(dict_0_01.values())\n",
        "\n",
        "# print(dic_keys[0])\n",
        "\n",
        "number_of_keys = len(dic_keys)\n",
        "for index in range(number_of_keys):\n",
        "  final_results['r'] [dic_keys[index]] = {}\n",
        "  final_results['r'] [dic_keys[index]] ['0.01'] = get_score_array(dic_vals[index])\n"
      ],
      "metadata": {
        "id": "GeNJ6ZAyjeKW"
      },
      "execution_count": 22,
      "outputs": []
    },
    {
      "cell_type": "code",
      "source": [
        "def add_to_dic(link,sigma):\n",
        "  dic = json.loads( open(link,'r').read() )\n",
        "\n",
        "  dic_keys = list(dic.keys())\n",
        "  dic_vals = list(dic.values())\n",
        "\n",
        "  number_of_keys = len(dic_keys)\n",
        "  for index in range(number_of_keys):\n",
        "    final_results['r'] [dic_keys[index]] [sigma] = get_score_array(dic_vals[index])"
      ],
      "metadata": {
        "id": "S1T6GQ7hqc3Q"
      },
      "execution_count": 23,
      "outputs": []
    },
    {
      "cell_type": "code",
      "source": [
        "add_to_dic('/content/drive/MyDrive/research papers/results/results/0.05_ranked_output.json','0.05')\n",
        "# add_to_dic('/content/drive/MyDrive/research papers/results/results/0.1_ranked_output.json','0.1')\n",
        "add_to_dic('/content/drive/MyDrive/research papers/results/results/0.25_ranked_output.json','0.25')\n",
        "add_to_dic('/content/drive/MyDrive/research papers/results/results/0.3_ranked_output.json','0.3')\n",
        "add_to_dic('/content/drive/MyDrive/research papers/results/results/0.4_ranked_output.json','0.4')\n",
        "add_to_dic('/content/drive/MyDrive/research papers/results/results/0.5_ranked_output.json','0.5')\n",
        "add_to_dic('/content/drive/MyDrive/research papers/results/results/0.6_ranked_output.json','0.6')\n",
        "add_to_dic('/content/drive/MyDrive/research papers/results/results/0.71_ranked_output.json','0.71')\n",
        "add_to_dic('/content/drive/MyDrive/research papers/results/results/0.75_ranked_output.json','0.75')\n",
        "add_to_dic('/content/drive/MyDrive/research papers/results/results/0.8_ranked_output.json','0.8')\n",
        "add_to_dic('/content/drive/MyDrive/research papers/results/results/0.9_ranked_output.json','0.9')\n",
        "add_to_dic('/content/drive/MyDrive/research papers/results/results/1_ranked_output.json','1')\n",
        "add_to_dic('/content/drive/MyDrive/research papers/results/results/2_ranked_output.json','2')\n",
        "add_to_dic('/content/drive/MyDrive/research papers/results/results/3_ranked_output.json','3')\n",
        "add_to_dic('/content/drive/MyDrive/research papers/results/results/4_ranked_output.json','4')\n",
        "add_to_dic('/content/drive/MyDrive/research papers/results/results/5_ranked_output.json','5')\n",
        "add_to_dic('/content/drive/MyDrive/research papers/results/results/6_ranked_output.json','6')\n",
        "add_to_dic('/content/drive/MyDrive/research papers/results/results/7_ranked_output.json','7')\n",
        "add_to_dic('/content/drive/MyDrive/research papers/results/results/8_ranked_output.json','8')\n",
        "add_to_dic('/content/drive/MyDrive/research papers/results/results/9_ranked_output.json','9')\n",
        "add_to_dic('/content/drive/MyDrive/research papers/results/results/10_ranked_output.json','10')\n"
      ],
      "metadata": {
        "id": "o6TyC8NmrMut"
      },
      "execution_count": 24,
      "outputs": []
    },
    {
      "cell_type": "code",
      "source": [
        "output_file = open ('/content/drive/MyDrive/research papers/results/results/lol.txt','a')\n",
        "\n",
        "for doc in dic_keys:\n",
        "  doc_dic = final_results['r'][doc]\n",
        "  ks = list(doc_dic.keys())\n",
        "  klist = []\n",
        "  for k in ks:\n",
        "    if 0 in doc_dic[k]:\n",
        "      klist.append(k)\n",
        "\n",
        "  output_file.write(f'{doc}, {len(klist)}, {klist}\\n')\n",
        "\n",
        "output_file.close()\n"
      ],
      "metadata": {
        "id": "YfmqH2KctOto"
      },
      "execution_count": 28,
      "outputs": []
    }
  ]
}